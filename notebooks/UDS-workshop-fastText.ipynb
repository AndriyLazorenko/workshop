{
 "cells": [
  {
   "cell_type": "markdown",
   "metadata": {},
   "source": [
    "# FastText\n",
    "<h4 style=\"font-size:14px; font-family:Calibry\" align=\"left\"> Andrii Kruchko </h4>"
   ]
  },
  {
   "cell_type": "markdown",
   "metadata": {},
   "source": [
    "<a id='0'> </a>"
   ]
  },
  {
   "cell_type": "markdown",
   "metadata": {},
   "source": [
    "<hr style=\"height: 1px; background-color: #808080\">\n",
    "## Table of Contents\n",
    "\n",
    "<ol>\n",
    "    <li style=\"font-size:20px; font-family:Verdana\">[FastText overview](#1)</li>\n",
    "    <li style=\"font-size:20px; font-family:Verdana\">[Data preprocessing for fastText](#2)</li>\n",
    "    <li style=\"font-size:20px; font-family:Verdana\">[Parameters overview and the model training](#3)</li>\n",
    "</ol>"
   ]
  },
  {
   "cell_type": "markdown",
   "metadata": {},
   "source": [
    "<a id='1'></a>"
   ]
  },
  {
   "cell_type": "markdown",
   "metadata": {
    "slideshow": {
     "slide_type": "slide"
    }
   },
   "source": [
    "<hr style=\"height: 1px; background-color: #808080\">\n",
    "## 1. FastText overview\n",
    "### What is it?\n",
    "\n",
    "FastText is a linear model with a rank constraint and a fast loss approximation.<br>\n",
    "It can obtain the accuracy comparable to deep learning classifiers.<br>\n",
    "\n",
    "But it is way faster:\n",
    "- FastText can train on more than one 200M words in less than five minutes using a standard multicore CPU\n",
    "- Classify nearly 150K reviews in less than a minute"
   ]
  },
  {
   "cell_type": "markdown",
   "metadata": {
    "slideshow": {
     "slide_type": "slide"
    }
   },
   "source": [
    "### Architecture\n",
    "\n",
    "<img src=\"https://raw.githubusercontent.com/akruchko/test/master/1_model_architecture_of_fastText.PNG\">\n",
    "The model architecture of fastText for a sentence with N ngram features x1, . . . , xN .<br> The features are embedded and averaged to form the hidden variable$^1$\n",
    "\n",
    "<hr style=\"height: 1px; width: 100px; background-color: #808080\"; align=\"left\"> <br>\n",
    "$^1$ https://arxiv.org/pdf/1607.01759.pdf"
   ]
  },
  {
   "cell_type": "markdown",
   "metadata": {},
   "source": [
    "### Algorithm\n",
    "\n",
    "FastText uses the softmax function $f$ to compute the probability distribution over the predefined classes. For a set of N documents, this leads to minimizing the negative loglikelihood over the classes:\n",
    "\n",
    "\n",
    "\\begin{align}\n",
    "\\ -\\frac{1}{N} \\sum_{n=1}^N y_n log(f(BAx_n))\n",
    "\\end{align}\n",
    "$x_n$ - the normalized bag of features of the n-th document, <br>\n",
    "$y_n$ - the label, <br>\n",
    "$A, B$ - weight matrices\n",
    "\n",
    "Optimization is performing using stochastic gradient descent and a linearly decaying learning rate."
   ]
  },
  {
   "cell_type": "markdown",
   "metadata": {
    "slideshow": {
     "slide_type": "slide"
    }
   },
   "source": [
    "<h3 style=\"font-size:16px; font-family:Verdana\">[To the table of contents](#0)</h3>"
   ]
  },
  {
   "cell_type": "markdown",
   "metadata": {},
   "source": [
    "<a id='2'></a>"
   ]
  },
  {
   "cell_type": "markdown",
   "metadata": {},
   "source": [
    "<hr style=\"height: 1px; background-color: #808080\">\n",
    "## 2. Data preprocessing for fastText\n",
    "- remove nonprintable characters\n",
    "- fix $n't$, $'re$, $'s$ and other cases\n",
    "- remove punctuation and digits\n",
    "- Porter stemming"
   ]
  },
  {
   "cell_type": "code",
   "execution_count": 1,
   "metadata": {
    "collapsed": true
   },
   "outputs": [],
   "source": [
    "import pandas as pd\n",
    "\n",
    "from itertools import product\n",
    "\n",
    "from string import punctuation, digits\n",
    "from nltk.stem import PorterStemmer\n",
    "\n",
    "from sklearn.model_selection import train_test_split\n",
    "from sklearn.metrics import accuracy_score, f1_score, classification_report"
   ]
  },
  {
   "cell_type": "code",
   "execution_count": 2,
   "metadata": {
    "collapsed": true
   },
   "outputs": [],
   "source": [
    "from fasttext import supervised"
   ]
  },
  {
   "cell_type": "code",
   "execution_count": 3,
   "metadata": {
    "collapsed": false
   },
   "outputs": [],
   "source": [
    "df_train = pd.read_csv('data/movie_reviews.csv')\n",
    "df_test = pd.read_csv('data/test.csv')"
   ]
  },
  {
   "cell_type": "code",
   "execution_count": 4,
   "metadata": {
    "collapsed": true
   },
   "outputs": [],
   "source": [
    "# prepare punctuation and digits list for removal\n",
    "translator = str.maketrans('', '', punctuation + digits)\n",
    "\n",
    "# basic preprocessing:\n",
    "def clean_data(df, col):\n",
    "    df['clean_text'] = df[col].str.replace('\\n', '').str.replace('\\r', '').str.replace('\\t', '')\n",
    "    df.clean_text = df.clean_text.str.replace(\"n't\", \" not\").str.replace(\"'re\", \" are\").str.replace(\"'s\", \" s\")\n",
    "    df.clean_text = df.clean_text.str.replace(\"'ve\", \" have\").str.replace(\"'ll\", \" will\").str.replace(\"'d\", \" d\")\n",
    "    df.clean_text = df.clean_text.str.translate(translator).str.strip().str.lower()\n",
    "    return df"
   ]
  },
  {
   "cell_type": "code",
   "execution_count": 5,
   "metadata": {
    "collapsed": false
   },
   "outputs": [],
   "source": [
    "df_train = clean_data(df_train, 'text')\n",
    "df_test = clean_data(df_test, 'text')"
   ]
  },
  {
   "cell_type": "code",
   "execution_count": 6,
   "metadata": {
    "collapsed": false
   },
   "outputs": [
    {
     "data": {
      "text/html": [
       "<div>\n",
       "<table border=\"1\" class=\"dataframe\">\n",
       "  <thead>\n",
       "    <tr style=\"text-align: right;\">\n",
       "      <th></th>\n",
       "      <th>label</th>\n",
       "      <th>text</th>\n",
       "      <th>clean_text</th>\n",
       "    </tr>\n",
       "  </thead>\n",
       "  <tbody>\n",
       "    <tr>\n",
       "      <th>0</th>\n",
       "      <td>1</td>\n",
       "      <td>To an entire generation of filmgoers, it just ...</td>\n",
       "      <td>to an entire generation of filmgoers it just m...</td>\n",
       "    </tr>\n",
       "  </tbody>\n",
       "</table>\n",
       "</div>"
      ],
      "text/plain": [
       "   label                                               text  \\\n",
       "0      1  To an entire generation of filmgoers, it just ...   \n",
       "\n",
       "                                          clean_text  \n",
       "0  to an entire generation of filmgoers it just m...  "
      ]
     },
     "execution_count": 6,
     "metadata": {},
     "output_type": "execute_result"
    }
   ],
   "source": [
    "df_train.head(1)"
   ]
  },
  {
   "cell_type": "code",
   "execution_count": 7,
   "metadata": {
    "collapsed": false,
    "scrolled": true
   },
   "outputs": [
    {
     "name": "stdout",
     "output_type": "stream",
     "text": [
      "CPU times: user 2min 30s, sys: 68 ms, total: 2min 31s\n",
      "Wall time: 2min 31s\n"
     ]
    }
   ],
   "source": [
    "%%time\n",
    "# Porter stemming\n",
    "stemmer = PorterStemmer()\n",
    "df_train['porter_text'] = df_train['clean_text'].apply(lambda x: ' '.join([stemmer.stem(w) for w in x.split()]))\n",
    "df_train = df_train[df_train.porter_text.apply(len) != 0]\n",
    "df_test['porter_text'] = df_test['clean_text'].apply(lambda x: ' '.join([stemmer.stem(w) for w in x.split()]))"
   ]
  },
  {
   "cell_type": "code",
   "execution_count": 8,
   "metadata": {
    "collapsed": false
   },
   "outputs": [
    {
     "data": {
      "text/html": [
       "<div>\n",
       "<table border=\"1\" class=\"dataframe\">\n",
       "  <thead>\n",
       "    <tr style=\"text-align: right;\">\n",
       "      <th></th>\n",
       "      <th>label</th>\n",
       "      <th>text</th>\n",
       "      <th>clean_text</th>\n",
       "      <th>porter_text</th>\n",
       "    </tr>\n",
       "  </thead>\n",
       "  <tbody>\n",
       "    <tr>\n",
       "      <th>0</th>\n",
       "      <td>1</td>\n",
       "      <td>To an entire generation of filmgoers, it just ...</td>\n",
       "      <td>to an entire generation of filmgoers it just m...</td>\n",
       "      <td>to an entir gener of filmgoer it just might re...</td>\n",
       "    </tr>\n",
       "  </tbody>\n",
       "</table>\n",
       "</div>"
      ],
      "text/plain": [
       "   label                                               text  \\\n",
       "0      1  To an entire generation of filmgoers, it just ...   \n",
       "\n",
       "                                          clean_text  \\\n",
       "0  to an entire generation of filmgoers it just m...   \n",
       "\n",
       "                                         porter_text  \n",
       "0  to an entir gener of filmgoer it just might re...  "
      ]
     },
     "execution_count": 8,
     "metadata": {},
     "output_type": "execute_result"
    }
   ],
   "source": [
    "df_train.head(1)"
   ]
  },
  {
   "cell_type": "code",
   "execution_count": 9,
   "metadata": {
    "collapsed": false
   },
   "outputs": [],
   "source": [
    "# splitting on train and validation\n",
    "df_train2, df_val = train_test_split(df_train[['label', 'porter_text']], test_size=0.2, random_state=42)"
   ]
  },
  {
   "cell_type": "code",
   "execution_count": 10,
   "metadata": {
    "collapsed": false
   },
   "outputs": [],
   "source": [
    "# Since fastText can be trained only from text files, we should mark labels. The default is `__label__` but can be custom.\n",
    "df_train2['ft_label'] = df_train2['label'].apply(lambda x: '__label__1 ' if x == 1 else '__label__0 ')\n",
    "df_train2[['ft_label', 'porter_text']].to_csv('data/train_fastText.csv', index=False, header=False)"
   ]
  },
  {
   "cell_type": "markdown",
   "metadata": {},
   "source": [
    "### observations and yet another preprocessing variant\n",
    "\n",
    "Weren't helpful:\n",
    "- default stop words make the model performance worse. The list should be revised or created from scratch\n",
    "- entities removal influences model's results badly. \n",
    "\n",
    "SpaCy lemmatization less aggressive than Porter stemmer"
   ]
  },
  {
   "cell_type": "markdown",
   "metadata": {},
   "source": [
    "<h3 style=\"font-size:16px; font-family:Verdana\">[To the table of contents](#0)</h3>"
   ]
  },
  {
   "cell_type": "markdown",
   "metadata": {},
   "source": [
    "<a id='3'></a>"
   ]
  },
  {
   "cell_type": "markdown",
   "metadata": {},
   "source": [
    "<hr style=\"height: 1px; background-color: #808080\">\n",
    "## 3. Parameters overview and the model training"
   ]
  },
  {
   "cell_type": "markdown",
   "metadata": {},
   "source": [
    "### Parameters overview\n",
    "\n",
    "- `lr` - learning rate. Default: **0.1**.\n",
    "- `dim` - size of word vectors in the hidden unit. Default: **100**. Should be less for small datasets and the number of labels.\n",
    "- `epoch` - number of epochs. Default: **5**. Higher for small learning rates.\n",
    "- `min_count` - minimal number of word occurences. Default: **1**. 5 or higher to avoid overfitting.\n",
    "- `word_ngrams` - max length of word ngram. Default: **1**. Higher order ngrams lead to overfitting on small datasets. if value greater than 1 learning rate and epoch should be revised.\n",
    "- `bucket` - number of buckets. Default: **2000000**. Developers recommend to use lower values for small datasets (ex. 100K).\n",
    "- `minn` - min length of char ngram. Default: **0**.\n",
    "- `maxn` - max length of char ngram. Default: **0**."
   ]
  },
  {
   "cell_type": "markdown",
   "metadata": {},
   "source": [
    "### The model training"
   ]
  },
  {
   "cell_type": "code",
   "execution_count": 12,
   "metadata": {
    "collapsed": false
   },
   "outputs": [],
   "source": [
    "def get_score(df, clf, label='label', text='porter_text', model_name='data/fastText_porter'):\n",
    "  \n",
    "    prediction = clf.predict_proba(list(df[text]))\n",
    "    prediction = [int(item[0][0]) for item in prediction]\n",
    "\n",
    "    return [round(accuracy_score(list(df[label]), prediction), 4), \n",
    "            round(f1_score(list(df[label]), prediction, pos_label=0), 4)]"
   ]
  },
  {
   "cell_type": "code",
   "execution_count": 13,
   "metadata": {
    "collapsed": true
   },
   "outputs": [],
   "source": [
    "# prepare parameters for the grid search\n",
    "lrates = [0.5, 0.1, 0.01]\n",
    "epochs = [5, 10]\n",
    "min_c = [1, 5]"
   ]
  },
  {
   "cell_type": "code",
   "execution_count": 14,
   "metadata": {
    "collapsed": false
   },
   "outputs": [
    {
     "name": "stdout",
     "output_type": "stream",
     "text": [
      "CPU times: user 6min 44s, sys: 11.1 s, total: 6min 56s\n",
      "Wall time: 4min 3s\n"
     ]
    }
   ],
   "source": [
    "%%time\n",
    "# let's train models and evaluate them on the validation dataset\n",
    "results = []\n",
    "for i in product(lrates, epochs, min_c):\n",
    "    clf = supervised('data/train_fastText.csv', 'data/fastText_porter', label_prefix='__label__', \n",
    "                     lr=i[0], epoch=i[1], min_count=i[2])    \n",
    "    results.append(list(i) + get_score(df_val, clf))"
   ]
  },
  {
   "cell_type": "code",
   "execution_count": 15,
   "metadata": {
    "collapsed": false
   },
   "outputs": [
    {
     "data": {
      "text/html": [
       "<div>\n",
       "<table border=\"1\" class=\"dataframe\">\n",
       "  <thead>\n",
       "    <tr style=\"text-align: right;\">\n",
       "      <th></th>\n",
       "      <th>lr</th>\n",
       "      <th>epoch</th>\n",
       "      <th>min_count</th>\n",
       "      <th>accuracy</th>\n",
       "      <th>f1</th>\n",
       "    </tr>\n",
       "  </thead>\n",
       "  <tbody>\n",
       "    <tr>\n",
       "      <th>0</th>\n",
       "      <td>0.50</td>\n",
       "      <td>5</td>\n",
       "      <td>5</td>\n",
       "      <td>0.8163</td>\n",
       "      <td>0.7726</td>\n",
       "    </tr>\n",
       "    <tr>\n",
       "      <th>1</th>\n",
       "      <td>0.10</td>\n",
       "      <td>5</td>\n",
       "      <td>5</td>\n",
       "      <td>0.8170</td>\n",
       "      <td>0.7724</td>\n",
       "    </tr>\n",
       "    <tr>\n",
       "      <th>2</th>\n",
       "      <td>0.10</td>\n",
       "      <td>10</td>\n",
       "      <td>5</td>\n",
       "      <td>0.8159</td>\n",
       "      <td>0.7719</td>\n",
       "    </tr>\n",
       "    <tr>\n",
       "      <th>3</th>\n",
       "      <td>0.50</td>\n",
       "      <td>5</td>\n",
       "      <td>1</td>\n",
       "      <td>0.8176</td>\n",
       "      <td>0.7702</td>\n",
       "    </tr>\n",
       "    <tr>\n",
       "      <th>4</th>\n",
       "      <td>0.10</td>\n",
       "      <td>5</td>\n",
       "      <td>1</td>\n",
       "      <td>0.8168</td>\n",
       "      <td>0.7691</td>\n",
       "    </tr>\n",
       "    <tr>\n",
       "      <th>5</th>\n",
       "      <td>0.10</td>\n",
       "      <td>10</td>\n",
       "      <td>1</td>\n",
       "      <td>0.8162</td>\n",
       "      <td>0.7691</td>\n",
       "    </tr>\n",
       "    <tr>\n",
       "      <th>6</th>\n",
       "      <td>0.50</td>\n",
       "      <td>10</td>\n",
       "      <td>5</td>\n",
       "      <td>0.8159</td>\n",
       "      <td>0.7687</td>\n",
       "    </tr>\n",
       "    <tr>\n",
       "      <th>7</th>\n",
       "      <td>0.50</td>\n",
       "      <td>10</td>\n",
       "      <td>1</td>\n",
       "      <td>0.8146</td>\n",
       "      <td>0.7669</td>\n",
       "    </tr>\n",
       "    <tr>\n",
       "      <th>8</th>\n",
       "      <td>0.01</td>\n",
       "      <td>10</td>\n",
       "      <td>5</td>\n",
       "      <td>0.8143</td>\n",
       "      <td>0.7654</td>\n",
       "    </tr>\n",
       "    <tr>\n",
       "      <th>9</th>\n",
       "      <td>0.01</td>\n",
       "      <td>10</td>\n",
       "      <td>1</td>\n",
       "      <td>0.8139</td>\n",
       "      <td>0.7641</td>\n",
       "    </tr>\n",
       "    <tr>\n",
       "      <th>10</th>\n",
       "      <td>0.01</td>\n",
       "      <td>5</td>\n",
       "      <td>5</td>\n",
       "      <td>0.7991</td>\n",
       "      <td>0.7438</td>\n",
       "    </tr>\n",
       "    <tr>\n",
       "      <th>11</th>\n",
       "      <td>0.01</td>\n",
       "      <td>5</td>\n",
       "      <td>1</td>\n",
       "      <td>0.7970</td>\n",
       "      <td>0.7392</td>\n",
       "    </tr>\n",
       "  </tbody>\n",
       "</table>\n",
       "</div>"
      ],
      "text/plain": [
       "      lr  epoch  min_count  accuracy      f1\n",
       "0   0.50      5          5    0.8163  0.7726\n",
       "1   0.10      5          5    0.8170  0.7724\n",
       "2   0.10     10          5    0.8159  0.7719\n",
       "3   0.50      5          1    0.8176  0.7702\n",
       "4   0.10      5          1    0.8168  0.7691\n",
       "5   0.10     10          1    0.8162  0.7691\n",
       "6   0.50     10          5    0.8159  0.7687\n",
       "7   0.50     10          1    0.8146  0.7669\n",
       "8   0.01     10          5    0.8143  0.7654\n",
       "9   0.01     10          1    0.8139  0.7641\n",
       "10  0.01      5          5    0.7991  0.7438\n",
       "11  0.01      5          1    0.7970  0.7392"
      ]
     },
     "execution_count": 15,
     "metadata": {},
     "output_type": "execute_result"
    }
   ],
   "source": [
    "results = pd.DataFrame(results, columns=['lr', 'epoch', 'min_count', 'accuracy', 'f1']).sort_values(by='f1', ascending=False)\n",
    "results.reset_index(drop=True, inplace=True)\n",
    "results"
   ]
  },
  {
   "cell_type": "code",
   "execution_count": 16,
   "metadata": {
    "collapsed": false
   },
   "outputs": [],
   "source": [
    "clf = supervised('data/train_fastText.csv', 'data/fastText_porter', label_prefix='__label__', \n",
    "                 lr=results.lr[0], epoch=results.epoch[0], min_count=results.min_count[0])"
   ]
  },
  {
   "cell_type": "code",
   "execution_count": 17,
   "metadata": {
    "collapsed": false
   },
   "outputs": [
    {
     "name": "stdout",
     "output_type": "stream",
     "text": [
      "test accuracy: 0.7869 test f1: 0.7697\n"
     ]
    }
   ],
   "source": [
    "acc, f1 = get_score(df_test, clf)\n",
    "print('test accuracy:', round(acc, 4), 'test f1:', round(f1, 4))"
   ]
  },
  {
   "cell_type": "markdown",
   "metadata": {},
   "source": [
    "### The exercise # 1\n",
    "Train models with predefined parameters and explain why such results were derived."
   ]
  },
  {
   "cell_type": "code",
   "execution_count": null,
   "metadata": {
    "collapsed": false
   },
   "outputs": [],
   "source": [
    "%%time\n",
    "# A\n",
    "clf = supervised('data/train_fastText.csv', 'data/fastText_porter', label_prefix='__label__', \n",
    "                 epoch=40)"
   ]
  },
  {
   "cell_type": "code",
   "execution_count": null,
   "metadata": {
    "collapsed": false
   },
   "outputs": [],
   "source": [
    "acc, f1 = get_score(df_val, clf)\n",
    "print('validation accuracy:', round(acc, 4), 'validation f1:', round(f1, 4))\n",
    "acc, f1 = get_score(df_test, clf)\n",
    "print('test accuracy:', round(acc, 4), 'test f1:', round(f1, 4))"
   ]
  },
  {
   "cell_type": "code",
   "execution_count": null,
   "metadata": {
    "collapsed": false
   },
   "outputs": [],
   "source": [
    "%%time\n",
    "# B\n",
    "clf = supervised('data/train_fastText.csv', 'data/fastText_porter', label_prefix='__label__', \n",
    "                 word_ngrams=3, \n",
    "                 bucket=2000000)"
   ]
  },
  {
   "cell_type": "code",
   "execution_count": null,
   "metadata": {
    "collapsed": false
   },
   "outputs": [],
   "source": [
    "acc, f1 = get_score(df_val, clf)\n",
    "print('validation accuracy:', round(acc, 4), 'validation f1:', round(f1, 4))\n",
    "acc, f1 = get_score(df_test, clf)\n",
    "print('test accuracy:', round(acc, 4), 'test f1:', round(f1, 4))"
   ]
  },
  {
   "cell_type": "markdown",
   "metadata": {},
   "source": [
    "### The exercise # 2\n",
    "Try to improve the previous results using diiferent values of parameters."
   ]
  },
  {
   "cell_type": "code",
   "execution_count": null,
   "metadata": {
    "collapsed": false
   },
   "outputs": [],
   "source": [
    "%%time\n",
    "clf = supervised('data/train_fastText.csv', 'data/fastText_porter', label_prefix='__label__',\n",
    "                 lr=0.1, \n",
    "                 dim=100, \n",
    "                 epoch=5, \n",
    "                 min_count=1, \n",
    "                 word_ngrams=1, \n",
    "                 bucket=2000000, \n",
    "                 minn=0, \n",
    "                 maxn=0\n",
    "                )"
   ]
  },
  {
   "cell_type": "code",
   "execution_count": null,
   "metadata": {
    "collapsed": false
   },
   "outputs": [],
   "source": [
    "acc, f1 = get_score(df_val, clf)\n",
    "print('validation accuracy:', round(acc, 4), 'validation f1:', round(f1, 4))\n",
    "acc, f1 = get_score(df_test, clf)\n",
    "print('test accuracy:', round(acc, 4), 'test f1:', round(f1, 4))"
   ]
  },
  {
   "cell_type": "markdown",
   "metadata": {
    "collapsed": true
   },
   "source": [
    "<h3 style=\"font-size:16px; font-family:Verdana\">[To the table of contents](#0)</h3>"
   ]
  },
  {
   "cell_type": "markdown",
   "metadata": {},
   "source": [
    "## Conclusions\n",
    "\n",
    "- Really fast: representing sentences with bag of words and bag of n-grams with hashing trick; a hierachical softmax\n",
    "- It was developed mainly for large datasets (ex. 1 billion words). In case of small datasets hyperparameters should be tuned carefully to avoid overfitting or you shoud get more data."
   ]
  }
 ],
 "metadata": {
  "kernelspec": {
   "display_name": "Python 3",
   "language": "python",
   "name": "python3"
  },
  "language_info": {
   "codemirror_mode": {
    "name": "ipython",
    "version": 3
   },
   "file_extension": ".py",
   "mimetype": "text/x-python",
   "name": "python",
   "nbconvert_exporter": "python",
   "pygments_lexer": "ipython3",
   "version": "3.6.0"
  }
 },
 "nbformat": 4,
 "nbformat_minor": 2
}
